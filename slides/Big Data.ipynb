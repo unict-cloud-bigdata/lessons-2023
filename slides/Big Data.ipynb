{
 "cells": [
  {
   "cell_type": "markdown",
   "id": "416baf9e",
   "metadata": {
    "slideshow": {
     "slide_type": "slide"
    }
   },
   "source": [
    "# Big Data"
   ]
  },
  {
   "cell_type": "markdown",
   "id": "23a4bdc4",
   "metadata": {
    "slideshow": {
     "slide_type": "subslide"
    }
   },
   "source": [
    "## What is Big Data ?"
   ]
  },
  {
   "cell_type": "markdown",
   "id": "1dcf6cf7",
   "metadata": {
    "slideshow": {
     "slide_type": "fragment"
    }
   },
   "source": [
    "### A market perspective"
   ]
  },
  {
   "cell_type": "markdown",
   "id": "6870264d",
   "metadata": {
    "slideshow": {
     "slide_type": "subslide"
    }
   },
   "source": [
    "Revenue from big data and business analytics worldwide from 2015 to 2022 (Statista - IDC)"
   ]
  },
  {
   "cell_type": "markdown",
   "id": "90e0580a",
   "metadata": {
    "slideshow": {
     "slide_type": "subslide"
    }
   },
   "source": [
    "![](images/Statista2023-BigDataBusiness.png)\n",
    "\n",
    "https://www.statista.com/statistics/551501/worldwide-big-data-business-analytics-revenue/"
   ]
  },
  {
   "cell_type": "markdown",
   "id": "a0ebe414",
   "metadata": {
    "slideshow": {
     "slide_type": "slide"
    }
   },
   "source": [
    "# Big Data and Cloud"
   ]
  },
  {
   "cell_type": "markdown",
   "id": "112951dc",
   "metadata": {
    "slideshow": {
     "slide_type": "subslide"
    }
   },
   "source": [
    "## Google Cloud"
   ]
  },
  {
   "cell_type": "markdown",
   "id": "f469219e",
   "metadata": {
    "slideshow": {
     "slide_type": "fragment"
    }
   },
   "source": [
    "https://cloud.google.com/learn/what-is-big-data"
   ]
  },
  {
   "cell_type": "markdown",
   "id": "88fdec43",
   "metadata": {
    "slideshow": {
     "slide_type": "subslide"
    }
   },
   "source": [
    "## AWS"
   ]
  },
  {
   "cell_type": "markdown",
   "id": "94002e9b",
   "metadata": {
    "slideshow": {
     "slide_type": "fragment"
    }
   },
   "source": [
    "https://aws.amazon.com/big-data/what-is-big-data/"
   ]
  },
  {
   "cell_type": "markdown",
   "id": "dabc93cc",
   "metadata": {
    "slideshow": {
     "slide_type": "subslide"
    }
   },
   "source": [
    "## Microsoft Azure"
   ]
  },
  {
   "cell_type": "markdown",
   "id": "a186b043",
   "metadata": {
    "slideshow": {
     "slide_type": "fragment"
    }
   },
   "source": [
    "https://azure.microsoft.com/en-gb/solutions/cloud-scale-analytics/#products"
   ]
  },
  {
   "cell_type": "markdown",
   "id": "df61b25c",
   "metadata": {
    "slideshow": {
     "slide_type": "slide"
    }
   },
   "source": [
    "# Big Data History"
   ]
  },
  {
   "cell_type": "markdown",
   "id": "174cd7d1",
   "metadata": {
    "slideshow": {
     "slide_type": "subslide"
    }
   },
   "source": [
    "Miro Board\n",
    "\n",
    "https://miro.com/app/board/uXjVPiknoZo=/?share_link_id=65110571937"
   ]
  }
 ],
 "metadata": {
  "celltoolbar": "Slideshow",
  "kernelspec": {
   "display_name": "Python 3 (ipykernel)",
   "language": "python",
   "name": "python3"
  },
  "language_info": {
   "codemirror_mode": {
    "name": "ipython",
    "version": 3
   },
   "file_extension": ".py",
   "mimetype": "text/x-python",
   "name": "python",
   "nbconvert_exporter": "python",
   "pygments_lexer": "ipython3",
   "version": "3.9.15"
  },
  "rise": {
   "autolaunch": true,
   "enable_chalkboard": "true",
   "footer": "<div class=\"tswd-footer\"> *** Cloud Computing and Big Data - 2023 ***</div>",
   "header": "<div class=\"tswd-header\"></div>",
   "scroll": true,
   "theme": "white"
  }
 },
 "nbformat": 4,
 "nbformat_minor": 5
}
