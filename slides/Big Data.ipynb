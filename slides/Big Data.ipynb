{
 "cells": [
  {
   "cell_type": "markdown",
   "id": "416baf9e",
   "metadata": {
    "slideshow": {
     "slide_type": "slide"
    }
   },
   "source": [
    "# Big Data"
   ]
  },
  {
   "cell_type": "code",
   "execution_count": null,
   "id": "0e5b2396",
   "metadata": {},
   "outputs": [],
   "source": []
  },
  {
   "cell_type": "markdown",
   "id": "23a4bdc4",
   "metadata": {
    "slideshow": {
     "slide_type": "subslide"
    }
   },
   "source": [
    "## What is Big Data ?"
   ]
  },
  {
   "cell_type": "markdown",
   "id": "1dcf6cf7",
   "metadata": {
    "slideshow": {
     "slide_type": "fragment"
    }
   },
   "source": [
    "### A market perspective"
   ]
  },
  {
   "cell_type": "markdown",
   "id": "6870264d",
   "metadata": {
    "slideshow": {
     "slide_type": "subslide"
    }
   },
   "source": [
    "Revenue from big data and business analytics worldwide from 2015 to 2022 (Statista - IDC)"
   ]
  },
  {
   "cell_type": "markdown",
   "id": "90e0580a",
   "metadata": {
    "slideshow": {
     "slide_type": "subslide"
    }
   },
   "source": [
    "![](images/Statista2023-BigDataBusiness.png)\n",
    "\n",
    "https://www.statista.com/statistics/551501/worldwide-big-data-business-analytics-revenue/"
   ]
  },
  {
   "cell_type": "markdown",
   "id": "a0ebe414",
   "metadata": {
    "slideshow": {
     "slide_type": "slide"
    }
   },
   "source": [
    "# Big Data and Cloud"
   ]
  },
  {
   "cell_type": "markdown",
   "id": "112951dc",
   "metadata": {
    "slideshow": {
     "slide_type": "subslide"
    }
   },
   "source": [
    "## Google Cloud"
   ]
  },
  {
   "cell_type": "markdown",
   "id": "f469219e",
   "metadata": {
    "slideshow": {
     "slide_type": "fragment"
    }
   },
   "source": [
    "https://cloud.google.com/learn/what-is-big-data"
   ]
  },
  {
   "cell_type": "markdown",
   "id": "88fdec43",
   "metadata": {
    "slideshow": {
     "slide_type": "subslide"
    }
   },
   "source": [
    "## AWS"
   ]
  },
  {
   "cell_type": "markdown",
   "id": "94002e9b",
   "metadata": {
    "slideshow": {
     "slide_type": "fragment"
    }
   },
   "source": [
    "https://aws.amazon.com/big-data/what-is-big-data/"
   ]
  },
  {
   "cell_type": "markdown",
   "id": "dabc93cc",
   "metadata": {
    "slideshow": {
     "slide_type": "subslide"
    }
   },
   "source": [
    "## Microsoft Azure"
   ]
  },
  {
   "cell_type": "markdown",
   "id": "a186b043",
   "metadata": {
    "slideshow": {
     "slide_type": "fragment"
    }
   },
   "source": [
    "https://azure.microsoft.com/en-gb/solutions/cloud-scale-analytics/#products"
   ]
  },
  {
   "cell_type": "markdown",
   "id": "dce83025",
   "metadata": {
    "slideshow": {
     "slide_type": "slide"
    }
   },
   "source": [
    "# Big data is better data\n",
    "\n",
    "[▶![](http://img.youtube.com/vi/8pHzROP1D-w/0.jpg)](https://www.youtube.com/watch?v=8pHzROP1D-w&start=113)"
   ]
  },
  {
   "cell_type": "markdown",
   "id": "6cfa4a72",
   "metadata": {
    "slideshow": {
     "slide_type": "slide"
    }
   },
   "source": [
    "# The Book of Why\n",
    "![](https://upload.wikimedia.org/wikipedia/en/3/38/The_Book_of_Why.jpg)"
   ]
  },
  {
   "cell_type": "markdown",
   "id": "da9d29d1",
   "metadata": {
    "cell_style": "split",
    "slideshow": {
     "slide_type": "subslide"
    }
   },
   "source": [
    "> Data can tell you that the people who took a medicine recovered faster than those who did not take it, but they can’t tell you why. Maybe those who took the medicine did so because they could afford it and would have recovered just as fast without it."
   ]
  },
  {
   "cell_type": "markdown",
   "id": "1d36e4cf",
   "metadata": {
    "cell_style": "split",
    "slideshow": {
     "slide_type": "fragment"
    }
   },
   "source": [
    "![](images/ThebookofWhy-inference-engine.png)"
   ]
  },
  {
   "cell_type": "markdown",
   "id": "df61b25c",
   "metadata": {
    "slideshow": {
     "slide_type": "slide"
    }
   },
   "source": [
    "# Big Data History"
   ]
  },
  {
   "cell_type": "markdown",
   "id": "174cd7d1",
   "metadata": {
    "slideshow": {
     "slide_type": "subslide"
    }
   },
   "source": [
    "Miro Board\n",
    "\n",
    "https://miro.com/app/board/uXjVPiknoZo=/?share_link_id=65110571937"
   ]
  },
  {
   "cell_type": "markdown",
   "id": "c3f40600",
   "metadata": {
    "slideshow": {
     "slide_type": "slide"
    }
   },
   "source": [
    "# V for ?"
   ]
  },
  {
   "cell_type": "markdown",
   "id": "db4c9769",
   "metadata": {
    "slideshow": {
     "slide_type": "subslide"
    }
   },
   "source": [
    "# Volume"
   ]
  },
  {
   "cell_type": "markdown",
   "id": "dd05fd1f",
   "metadata": {
    "cell_style": "split",
    "slideshow": {
     "slide_type": "fragment"
    }
   },
   "source": [
    "From day one, the Zettabyte has been a benchmark that our analysts have targeted as a major networking milestone.\n",
    "\n",
    "When will global Internet traffic reach an annual run rate of one Zettabyte? Well, that day has finally come. According to our estimate, the world’s collective Internet use will reach the Zettabyte threshold for this calendar year on September 9, 2016\n",
    "\n",
    "https://blogs.cisco.com/sp/the-zettabyte-era-officially-begins-how-much-is-that"
   ]
  },
  {
   "cell_type": "markdown",
   "id": "3695e449",
   "metadata": {
    "cell_style": "split",
    "slideshow": {
     "slide_type": "fragment"
    }
   },
   "source": [
    "Volume of data/information created, captured, copied, and consumed worldwide from 2010 to 2020, with forecasts from 2021 to 2025 (in zettabytes)\n",
    "\n",
    "![](images/Statista2023-VolumeData2021-2025.png)\n",
    "https://www.statista.com/statistics/871513/worldwide-data-created/"
   ]
  },
  {
   "cell_type": "markdown",
   "id": "d7f7f5d4",
   "metadata": {
    "slideshow": {
     "slide_type": "subslide"
    }
   },
   "source": [
    "![](https://img-9gag-fun.9cache.com/photo/a318ez1_460swp.webp)\n",
    "\n",
    "https://www.reddit.com/r/196/comments/uonbxf/rulezip/"
   ]
  },
  {
   "cell_type": "markdown",
   "id": "b95a1754",
   "metadata": {
    "slideshow": {
     "slide_type": "subslide"
    }
   },
   "source": [
    "# Velocity"
   ]
  },
  {
   "cell_type": "markdown",
   "id": "04aaf93d",
   "metadata": {
    "cell_style": "split",
    "slideshow": {
     "slide_type": "fragment"
    }
   },
   "source": [
    "In contrast, data growth shows no sign of stopping. The ongoing explosion of data will result in approximately 40 trillion gigabytes (or 40 zettabytes) in 2020 alone. That’s 1.7MB of data created every second for every person on earth.\n",
    "\n",
    "https://www.ibm.com/blogs/journey-to-ai/2020/06/netezza-and-ibm-cloud-pak-a-knockout-combo-for-tough-data/\n",
    "\n",
    "https://www.forbes.com/sites/brentdykes/2017/06/28/big-data-forget-volume-and-variety-focus-on-velocity/?sh=e9e8b906f7d6"
   ]
  },
  {
   "cell_type": "markdown",
   "id": "cc365c05",
   "metadata": {
    "cell_style": "split",
    "slideshow": {
     "slide_type": "fragment"
    }
   },
   "source": [
    "![](https://www.highspeedinternet.com/app/uploads/2022/12/HSI_UPDATED_12-14-What-is-6G-Internet.png)\n",
    "\n",
    "https://www.highspeedinternet.com/resources/6g-internet"
   ]
  },
  {
   "cell_type": "markdown",
   "id": "62fac643",
   "metadata": {
    "slideshow": {
     "slide_type": "subslide"
    }
   },
   "source": [
    "![](https://i.imgflip.com/7e6nwz.jpg)\n",
    "[NicsMeme](https://imgflip.com/i/7e6nwz)"
   ]
  },
  {
   "cell_type": "markdown",
   "id": "02c86043",
   "metadata": {
    "slideshow": {
     "slide_type": "subslide"
    }
   },
   "source": [
    "# Variety"
   ]
  },
  {
   "cell_type": "markdown",
   "id": "2e2d5f44",
   "metadata": {
    "cell_style": "split",
    "slideshow": {
     "slide_type": "fragment"
    }
   },
   "source": [
    "Variety refers to the complexity of data formats. Big data consists of different forms of data. For example, when a telecommunications company like Telstra records data on calls to its call centre, this data includes both:\n",
    "\n",
    "- structured data, which conforms to a predefined data model (e.g., your customer ID, the timestamp of your call, your service type), and\n",
    "- unstructured data (e.g., the recording of the call, notes that the call centre operator makes during the call, the problem history related to your call).\n",
    "\n",
    "https://www.futurelearn.com/info/courses/applied-big-data-analytics/0/steps/52404"
   ]
  },
  {
   "cell_type": "markdown",
   "id": "d8bc7679",
   "metadata": {
    "cell_style": "split",
    "slideshow": {
     "slide_type": "fragment"
    }
   },
   "source": [
    "![](https://miro.medium.com/v2/resize:fit:1400/0*suBDwJiElP7O2TDa)\n",
    "\n",
    "https://towardsdatascience.com/big-data-file-formats-explained-dfaabe9e8b33"
   ]
  },
  {
   "cell_type": "markdown",
   "id": "1ca2e9b4",
   "metadata": {
    "slideshow": {
     "slide_type": "subslide"
    }
   },
   "source": [
    "![](https://preview.redd.it/w64avutj1k921.jpg?width=640&crop=smart&auto=webp&v=enabled&s=9191e4b94a21abef0f3ecb9edd7c94d03b85550f)\n",
    "\n",
    "https://www.reddit.com/r/ProgrammerHumor/comments/aehe8q/perfect_date/"
   ]
  },
  {
   "cell_type": "markdown",
   "id": "ea187254",
   "metadata": {
    "slideshow": {
     "slide_type": "slide"
    }
   },
   "source": [
    "# and counting...\n",
    "\n",
    "The 17 V’s Of Big Data https://www.irjet.net/archives/V4/i9/IRJET-V4I957.pdf"
   ]
  },
  {
   "cell_type": "markdown",
   "id": "c69d582b",
   "metadata": {
    "slideshow": {
     "slide_type": "subslide"
    }
   },
   "source": [
    "### 4V \n",
    "\n",
    "Oracle added Veracity\n",
    "![](images/4v.png)\n"
   ]
  },
  {
   "cell_type": "markdown",
   "id": "e2eb6e7b",
   "metadata": {
    "slideshow": {
     "slide_type": "subslide"
    }
   },
   "source": [
    "![](https://uwex.wisconsin.edu/wp-content/uploads/2015/05/4-Vs-of-big-data-2048x1258.jpg)\n",
    "https://uwex.wisconsin.edu/stories-news/what-is-big-data/"
   ]
  },
  {
   "cell_type": "markdown",
   "id": "8bebe1f4",
   "metadata": {},
   "source": [
    "### 5V\n",
    "Oguntimilehin added Value\n",
    "![](https://www.edureka.co/blog/wp-content/uploads/2018/06/Five-Vs-of-Big-Data-What-is-Big-Data-Edureka.png)"
   ]
  },
  {
   "cell_type": "markdown",
   "id": "c7b6f1e2",
   "metadata": {
    "slideshow": {
     "slide_type": "subslide"
    }
   },
   "source": [
    "### 10V\n",
    "In 2014, Data Science Central, Kirk Born has defined big data in 10 V’s \n",
    "![](images/5v.png)"
   ]
  },
  {
   "cell_type": "markdown",
   "id": "03c344b1",
   "metadata": {
    "slideshow": {
     "slide_type": "subslide"
    }
   },
   "source": [
    "## 17V\n",
    "![](images/17V.jpg)"
   ]
  },
  {
   "cell_type": "markdown",
   "id": "ba46e141",
   "metadata": {
    "slideshow": {
     "slide_type": "slide"
    }
   },
   "source": [
    "# Big Data Landscape"
   ]
  },
  {
   "cell_type": "markdown",
   "id": "d1c94047",
   "metadata": {
    "slideshow": {
     "slide_type": "subslide"
    }
   },
   "source": [
    "![](http://mattturck.wpenginepowered.com/wp-content/uploads/2021/12/Data-and-AI-Landscape-2021-v3-small.jpg)"
   ]
  },
  {
   "cell_type": "markdown",
   "id": "10f54ef0",
   "metadata": {
    "slideshow": {
     "slide_type": "subslide"
    }
   },
   "source": [
    "# Big Data in real world..."
   ]
  },
  {
   "cell_type": "markdown",
   "id": "637d7e80",
   "metadata": {},
   "source": [
    "![](https://i.imgflip.com/7emx26.jpg)"
   ]
  },
  {
   "cell_type": "markdown",
   "id": "d41f475f",
   "metadata": {
    "slideshow": {
     "slide_type": "subslide"
    }
   },
   "source": [
    "https://www.mckinsey.com/capabilities/growth-marketing-and-sales/our-insights/insights-to-impact-creating-and-sustaining-data-driven-commercial-growth\n",
    "![](https://www.mckinsey.com/~/media/mckinsey/business%20functions/marketing%20and%20sales/our%20insights/insights%20to%20impact%20creating%20and%20sustaining%20data%20driven%20commercial%20growth/svg-insights-impact-exhibit-1.svgz?cq=50&cpy=Center)"
   ]
  },
  {
   "cell_type": "markdown",
   "id": "ca484c7c",
   "metadata": {
    "slideshow": {
     "slide_type": "subslide"
    }
   },
   "source": [
    "![](https://www.mckinsey.com/~/media/mckinsey/business%20functions/marketing%20and%20sales/our%20insights/insights%20to%20impact%20creating%20and%20sustaining%20data%20driven%20commercial%20growth/svg-insights-impact-exhibit-2.svgz?cq=50&cpy=Center)"
   ]
  },
  {
   "cell_type": "markdown",
   "id": "4853ad02",
   "metadata": {
    "slideshow": {
     "slide_type": "subslide"
    }
   },
   "source": [
    "## In real world\n",
    "https://www.tableau.com/learn/articles/big-data-examples-use-cases"
   ]
  },
  {
   "cell_type": "markdown",
   "id": "d7205371",
   "metadata": {
    "slideshow": {
     "slide_type": "subslide"
    }
   },
   "source": [
    "## Future ?\n",
    "[▶![](https://img.youtube.com/vi/4SmJP8TdWTU/0.jpg)](https://www.youtube.com/watch?v=4SmJP8TdWTU)"
   ]
  },
  {
   "cell_type": "markdown",
   "id": "11d31dc4",
   "metadata": {
    "slideshow": {
     "slide_type": "slide"
    }
   },
   "source": [
    "# References\n",
    "- https://techjury.net/blog/big-data-statistics/#gref\n",
    "- https://www.infotech.com/research/ss/data-and-analytics-trends-2023\n",
    "- [Trends Prediction of Big Data:A Case Study based on Fusion Data](https://www.sciencedirect.com/science/article/pii/S1877050920315878)\n",
    "- https://www.futurelearn.com/info/courses/applied-big-data-analytics/0/steps/52404\n",
    "- https://hbr.org/2013/12/you-may-not-need-big-data-after-all\n",
    "- https://medium.com/ming-labs/from-data-to-value-businesses-need-insights-not-data-75a3c3e6db3b\n",
    "- https://www.mckinsey.com/capabilities/growth-marketing-and-sales/our-insights/insights-to-impact-creating-and-sustaining-data-driven-commercial-growth\n",
    "- https://aithority.com/technology/analytics/5-big-data-analytics-dashboards-that-will-boost-your-career-in-2020/"
   ]
  }
 ],
 "metadata": {
  "celltoolbar": "Slideshow",
  "kernelspec": {
   "display_name": "Python 3 (ipykernel)",
   "language": "python",
   "name": "python3"
  },
  "language_info": {
   "codemirror_mode": {
    "name": "ipython",
    "version": 3
   },
   "file_extension": ".py",
   "mimetype": "text/x-python",
   "name": "python",
   "nbconvert_exporter": "python",
   "pygments_lexer": "ipython3",
   "version": "3.9.15"
  },
  "rise": {
   "autolaunch": true,
   "enable_chalkboard": "true",
   "footer": "<div class=\"tswd-footer\"> *** Cloud Computing and Big Data - 2023 ***</div>",
   "header": "<div class=\"tswd-header\"></div>",
   "scroll": true,
   "theme": "white"
  }
 },
 "nbformat": 4,
 "nbformat_minor": 5
}
